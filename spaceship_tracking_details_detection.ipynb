{
  "nbformat": 4,
  "nbformat_minor": 0,
  "metadata": {
    "colab": {
      "provenance": []
    },
    "kernelspec": {
      "name": "python3",
      "display_name": "Python 3"
    },
    "language_info": {
      "name": "python"
    }
  },
  "cells": [
    {
      "cell_type": "code",
      "execution_count": 1,
      "metadata": {
        "id": "3eTtp2I2DJMZ"
      },
      "outputs": [],
      "source": [
        "# Importing necessary libraries\n",
        "import numpy as np\n",
        "import pandas as pd\n",
        "import matplotlib.pyplot as plt\n",
        "from sklearn.model_selection import train_test_split\n",
        "from sklearn.preprocessing import StandardScaler\n",
        "from sklearn.linear_model import LogisticRegression\n",
        "from sklearn.tree import DecisionTreeClassifier\n",
        "from sklearn.ensemble import RandomForestClassifier\n",
        "from sklearn.neighbors import KNeighborsClassifier\n",
        "from sklearn.metrics import accuracy_score\n",
        "from statsmodels.tsa.arima.model import ARIMA\n",
        "from sklearn.metrics import mean_squared_error\n",
        "from keras.models import Sequential\n",
        "from keras.layers import Dense, LSTM\n",
        "from tensorflow import keras\n",
        "from statsmodels.tsa.arima.model import ARIMA\n",
        "from sklearn.metrics import mean_squared_error"
      ]
    },
    {
      "cell_type": "code",
      "source": [
        "# Load dataset (replace 'data.csv' with your dataset)\n",
        "data = pd.read_csv('SpaceShipTracking.csv')"
      ],
      "metadata": {
        "id": "fnVQQajTDOK6"
      },
      "execution_count": 2,
      "outputs": []
    },
    {
      "cell_type": "code",
      "source": [
        "print(data.head)\n",
        "print(data.tail)\n",
        "print(data.describe)"
      ],
      "metadata": {
        "colab": {
          "base_uri": "https://localhost:8080/"
        },
        "id": "SZJg6O3V_z7w",
        "outputId": "000d21b3-374a-4114-8428-6688e3a41e79"
      },
      "execution_count": 3,
      "outputs": [
        {
          "output_type": "stream",
          "name": "stdout",
          "text": [
            "<bound method NDFrame.head of       Ship_ID PassengerId HomePlanet CryoSleep     Cabin    Destination   Age  \\\n",
            "0           1     0013_01      Earth      True     G/3/S    TRAPPIST-1e  27.0   \n",
            "1           2     0018_01      Earth     False     F/4/S    TRAPPIST-1e  19.0   \n",
            "2           3     0019_01     Europa      True     C/0/S    55 Cancri e  31.0   \n",
            "3           4     0021_01     Europa     False     C/1/S    TRAPPIST-1e  38.0   \n",
            "4           5     0023_01      Earth     False     F/5/S    TRAPPIST-1e  20.0   \n",
            "...       ...         ...        ...       ...       ...            ...   ...   \n",
            "4272     4275     9266_02      Earth      True  G/1496/S    TRAPPIST-1e  34.0   \n",
            "4273     4276     9269_01      Earth     False       NaN    TRAPPIST-1e  42.0   \n",
            "4274     4277     9271_01       Mars      True   D/296/P    55 Cancri e   NaN   \n",
            "4275     4278     9273_01     Europa     False   D/297/P            NaN   NaN   \n",
            "4276     4279     9277_01      Earth      True  G/1498/S  PSO J318.5-22  43.0   \n",
            "\n",
            "        VIP  RoomService  FoodCourt  ...  Ship_class  Ship_Speed  \\\n",
            "0     False          0.0        0.0  ...         466         452   \n",
            "1     False          0.0        9.0  ...         457         413   \n",
            "2     False          0.0        0.0  ...         424         385   \n",
            "3     False          0.0     6652.0  ...         395         390   \n",
            "4     False         10.0        0.0  ...         408         393   \n",
            "...     ...          ...        ...  ...         ...         ...   \n",
            "4272  False          0.0        0.0  ...       42113       41811   \n",
            "4273  False          0.0      847.0  ...       42114       41812   \n",
            "4274  False          0.0        0.0  ...       42115       41813   \n",
            "4275  False          0.0     2680.0  ...       42116       41814   \n",
            "4276  False          0.0        0.0  ...       42117       41815   \n",
            "\n",
            "      Ship_Fuel_Level Ship_crew_count  Ship_Cargo_Weight  Ship_Humidity  \\\n",
            "0              165349         1145.20            1760.00          55.72   \n",
            "1              162598         1207.60            1763.00          55.74   \n",
            "2              153442         1199.85            1740.00          55.77   \n",
            "3              144372         1143.80            1735.00          55.79   \n",
            "4              142107         1161.40            1605.60          55.82   \n",
            "...               ...             ...                ...            ...   \n",
            "4272           161182         3166.20             667.05          51.79   \n",
            "4273           161182         3176.75             671.10          51.85   \n",
            "4274           161182         3175.90             675.00          51.90   \n",
            "4275           161182         3138.10             679.00          51.95   \n",
            "4276           161182         3178.15             672.90          52.00   \n",
            "\n",
            "      Ship_Temperature  Ship_Engine_Status  Ship_activity_log  \\\n",
            "0                19.52              101.50            1835.05   \n",
            "1                19.49              101.50            1811.50   \n",
            "2                19.47              101.51            1745.00   \n",
            "3                19.54              101.51            1748.00   \n",
            "4                19.61              101.51            1605.60   \n",
            "...                ...                 ...                ...   \n",
            "4272             19.49              101.16             673.20   \n",
            "4273             19.40              101.18             674.00   \n",
            "4274             19.32              101.19             679.00   \n",
            "4275             19.24              101.20             695.30   \n",
            "4276             19.16              101.21             676.70   \n",
            "\n",
            "      Ship_Energy_Consumption  \n",
            "0                         617  \n",
            "1                         617  \n",
            "2                         617  \n",
            "3                         617  \n",
            "4                         617  \n",
            "...                       ...  \n",
            "4272                      450  \n",
            "4273                      450  \n",
            "4274                      931  \n",
            "4275                      931  \n",
            "4276                      931  \n",
            "\n",
            "[4277 rows x 24 columns]>\n",
            "<bound method NDFrame.tail of       Ship_ID PassengerId HomePlanet CryoSleep     Cabin    Destination   Age  \\\n",
            "0           1     0013_01      Earth      True     G/3/S    TRAPPIST-1e  27.0   \n",
            "1           2     0018_01      Earth     False     F/4/S    TRAPPIST-1e  19.0   \n",
            "2           3     0019_01     Europa      True     C/0/S    55 Cancri e  31.0   \n",
            "3           4     0021_01     Europa     False     C/1/S    TRAPPIST-1e  38.0   \n",
            "4           5     0023_01      Earth     False     F/5/S    TRAPPIST-1e  20.0   \n",
            "...       ...         ...        ...       ...       ...            ...   ...   \n",
            "4272     4275     9266_02      Earth      True  G/1496/S    TRAPPIST-1e  34.0   \n",
            "4273     4276     9269_01      Earth     False       NaN    TRAPPIST-1e  42.0   \n",
            "4274     4277     9271_01       Mars      True   D/296/P    55 Cancri e   NaN   \n",
            "4275     4278     9273_01     Europa     False   D/297/P            NaN   NaN   \n",
            "4276     4279     9277_01      Earth      True  G/1498/S  PSO J318.5-22  43.0   \n",
            "\n",
            "        VIP  RoomService  FoodCourt  ...  Ship_class  Ship_Speed  \\\n",
            "0     False          0.0        0.0  ...         466         452   \n",
            "1     False          0.0        9.0  ...         457         413   \n",
            "2     False          0.0        0.0  ...         424         385   \n",
            "3     False          0.0     6652.0  ...         395         390   \n",
            "4     False         10.0        0.0  ...         408         393   \n",
            "...     ...          ...        ...  ...         ...         ...   \n",
            "4272  False          0.0        0.0  ...       42113       41811   \n",
            "4273  False          0.0      847.0  ...       42114       41812   \n",
            "4274  False          0.0        0.0  ...       42115       41813   \n",
            "4275  False          0.0     2680.0  ...       42116       41814   \n",
            "4276  False          0.0        0.0  ...       42117       41815   \n",
            "\n",
            "      Ship_Fuel_Level Ship_crew_count  Ship_Cargo_Weight  Ship_Humidity  \\\n",
            "0              165349         1145.20            1760.00          55.72   \n",
            "1              162598         1207.60            1763.00          55.74   \n",
            "2              153442         1199.85            1740.00          55.77   \n",
            "3              144372         1143.80            1735.00          55.79   \n",
            "4              142107         1161.40            1605.60          55.82   \n",
            "...               ...             ...                ...            ...   \n",
            "4272           161182         3166.20             667.05          51.79   \n",
            "4273           161182         3176.75             671.10          51.85   \n",
            "4274           161182         3175.90             675.00          51.90   \n",
            "4275           161182         3138.10             679.00          51.95   \n",
            "4276           161182         3178.15             672.90          52.00   \n",
            "\n",
            "      Ship_Temperature  Ship_Engine_Status  Ship_activity_log  \\\n",
            "0                19.52              101.50            1835.05   \n",
            "1                19.49              101.50            1811.50   \n",
            "2                19.47              101.51            1745.00   \n",
            "3                19.54              101.51            1748.00   \n",
            "4                19.61              101.51            1605.60   \n",
            "...                ...                 ...                ...   \n",
            "4272             19.49              101.16             673.20   \n",
            "4273             19.40              101.18             674.00   \n",
            "4274             19.32              101.19             679.00   \n",
            "4275             19.24              101.20             695.30   \n",
            "4276             19.16              101.21             676.70   \n",
            "\n",
            "      Ship_Energy_Consumption  \n",
            "0                         617  \n",
            "1                         617  \n",
            "2                         617  \n",
            "3                         617  \n",
            "4                         617  \n",
            "...                       ...  \n",
            "4272                      450  \n",
            "4273                      450  \n",
            "4274                      931  \n",
            "4275                      931  \n",
            "4276                      931  \n",
            "\n",
            "[4277 rows x 24 columns]>\n",
            "<bound method NDFrame.describe of       Ship_ID PassengerId HomePlanet CryoSleep     Cabin    Destination   Age  \\\n",
            "0           1     0013_01      Earth      True     G/3/S    TRAPPIST-1e  27.0   \n",
            "1           2     0018_01      Earth     False     F/4/S    TRAPPIST-1e  19.0   \n",
            "2           3     0019_01     Europa      True     C/0/S    55 Cancri e  31.0   \n",
            "3           4     0021_01     Europa     False     C/1/S    TRAPPIST-1e  38.0   \n",
            "4           5     0023_01      Earth     False     F/5/S    TRAPPIST-1e  20.0   \n",
            "...       ...         ...        ...       ...       ...            ...   ...   \n",
            "4272     4275     9266_02      Earth      True  G/1496/S    TRAPPIST-1e  34.0   \n",
            "4273     4276     9269_01      Earth     False       NaN    TRAPPIST-1e  42.0   \n",
            "4274     4277     9271_01       Mars      True   D/296/P    55 Cancri e   NaN   \n",
            "4275     4278     9273_01     Europa     False   D/297/P            NaN   NaN   \n",
            "4276     4279     9277_01      Earth      True  G/1498/S  PSO J318.5-22  43.0   \n",
            "\n",
            "        VIP  RoomService  FoodCourt  ...  Ship_class  Ship_Speed  \\\n",
            "0     False          0.0        0.0  ...         466         452   \n",
            "1     False          0.0        9.0  ...         457         413   \n",
            "2     False          0.0        0.0  ...         424         385   \n",
            "3     False          0.0     6652.0  ...         395         390   \n",
            "4     False         10.0        0.0  ...         408         393   \n",
            "...     ...          ...        ...  ...         ...         ...   \n",
            "4272  False          0.0        0.0  ...       42113       41811   \n",
            "4273  False          0.0      847.0  ...       42114       41812   \n",
            "4274  False          0.0        0.0  ...       42115       41813   \n",
            "4275  False          0.0     2680.0  ...       42116       41814   \n",
            "4276  False          0.0        0.0  ...       42117       41815   \n",
            "\n",
            "      Ship_Fuel_Level Ship_crew_count  Ship_Cargo_Weight  Ship_Humidity  \\\n",
            "0              165349         1145.20            1760.00          55.72   \n",
            "1              162598         1207.60            1763.00          55.74   \n",
            "2              153442         1199.85            1740.00          55.77   \n",
            "3              144372         1143.80            1735.00          55.79   \n",
            "4              142107         1161.40            1605.60          55.82   \n",
            "...               ...             ...                ...            ...   \n",
            "4272           161182         3166.20             667.05          51.79   \n",
            "4273           161182         3176.75             671.10          51.85   \n",
            "4274           161182         3175.90             675.00          51.90   \n",
            "4275           161182         3138.10             679.00          51.95   \n",
            "4276           161182         3178.15             672.90          52.00   \n",
            "\n",
            "      Ship_Temperature  Ship_Engine_Status  Ship_activity_log  \\\n",
            "0                19.52              101.50            1835.05   \n",
            "1                19.49              101.50            1811.50   \n",
            "2                19.47              101.51            1745.00   \n",
            "3                19.54              101.51            1748.00   \n",
            "4                19.61              101.51            1605.60   \n",
            "...                ...                 ...                ...   \n",
            "4272             19.49              101.16             673.20   \n",
            "4273             19.40              101.18             674.00   \n",
            "4274             19.32              101.19             679.00   \n",
            "4275             19.24              101.20             695.30   \n",
            "4276             19.16              101.21             676.70   \n",
            "\n",
            "      Ship_Energy_Consumption  \n",
            "0                         617  \n",
            "1                         617  \n",
            "2                         617  \n",
            "3                         617  \n",
            "4                         617  \n",
            "...                       ...  \n",
            "4272                      450  \n",
            "4273                      450  \n",
            "4274                      931  \n",
            "4275                      931  \n",
            "4276                      931  \n",
            "\n",
            "[4277 rows x 24 columns]>\n"
          ]
        }
      ]
    },
    {
      "cell_type": "code",
      "source": [
        "data['Target'] = (data['Ship_ID'].shift(-1) > data['Ship_ID']).astype(int)"
      ],
      "metadata": {
        "id": "uBzxGdkXAAG1"
      },
      "execution_count": 6,
      "outputs": []
    },
    {
      "cell_type": "code",
      "source": [
        "# Drop rows with NaN values\n",
        "data.dropna(inplace=True)"
      ],
      "metadata": {
        "id": "njkkFDYxACox"
      },
      "execution_count": 7,
      "outputs": []
    },
    {
      "cell_type": "code",
      "source": [
        "# Gathering the Information\n",
        "scaler = StandardScaler()\n",
        "scaled_data = scaler.fit_transform(data[['Ship_ID', 'Age', 'Ship_class', 'Ship_Speed']])\n",
        "print(scaled_data)"
      ],
      "metadata": {
        "colab": {
          "base_uri": "https://localhost:8080/"
        },
        "id": "g5_oaHdqAGFD",
        "outputId": "e2a10aea-5a47-4b4e-9a70-750654f968d7"
      },
      "execution_count": 8,
      "outputs": [
        {
          "output_type": "stream",
          "name": "stdout",
          "text": [
            "[[-1.72230575 -0.11206074 -1.12456132 -1.12297964]\n",
            " [-1.72149868 -0.67895371 -1.1250266  -1.12502197]\n",
            " [-1.72069161  0.17138574 -1.12673263 -1.12648825]\n",
            " ...\n",
            " [ 1.72630961  0.80914034  1.02844814  1.04282933]\n",
            " [ 1.72711668  0.38397061  1.02849983  1.0428817 ]\n",
            " [ 1.73034497  1.0217252   1.02870663  1.04309117]]\n"
          ]
        }
      ]
    },
    {
      "cell_type": "code",
      "source": [
        "# Create features and target variable\n",
        "X = scaled_data[:, :-1]\n",
        "y = data['Target'].values"
      ],
      "metadata": {
        "id": "c_THD9lgDQtG"
      },
      "execution_count": 9,
      "outputs": []
    },
    {
      "cell_type": "code",
      "source": [
        "# Splitting the dataset into training and testing sets\n",
        "X_train, X_test, y_train, y_test = train_test_split(X, y, test_size=0.2, random_state=42)"
      ],
      "metadata": {
        "id": "--YFrMijDWlB"
      },
      "execution_count": 10,
      "outputs": []
    },
    {
      "cell_type": "code",
      "source": [
        "# Standardizing the features\n",
        "scaler = StandardScaler()\n",
        "X_train = scaler.fit_transform(X_train)\n",
        "X_test = scaler.transform(X_test)"
      ],
      "metadata": {
        "id": "fml9mtDBDZbD"
      },
      "execution_count": 11,
      "outputs": []
    },
    {
      "cell_type": "code",
      "source": [
        "# Logistic Regression\n",
        "log_reg = LogisticRegression()\n",
        "log_reg.fit(X_train, y_train)\n",
        "log_reg_pred = log_reg.predict(X_test)\n",
        "log_reg_accuracy = accuracy_score(y_test, log_reg_pred)\n",
        "print(log_reg_accuracy)"
      ],
      "metadata": {
        "id": "CtyOd7E8DcOQ",
        "colab": {
          "base_uri": "https://localhost:8080/"
        },
        "outputId": "759120c6-64ae-4cef-cea3-372970b0c054"
      },
      "execution_count": 12,
      "outputs": [
        {
          "output_type": "stream",
          "name": "stdout",
          "text": [
            "1.0\n"
          ]
        }
      ]
    },
    {
      "cell_type": "code",
      "source": [
        "# Decision Tree Classifier\n",
        "dt_classifier = DecisionTreeClassifier()\n",
        "dt_classifier.fit(X_train, y_train)\n",
        "dt_pred = dt_classifier.predict(X_test)\n",
        "dt_accuracy = accuracy_score(y_test, dt_pred)\n",
        "print(dt_accuracy)"
      ],
      "metadata": {
        "id": "5xRBkPd2DfFi",
        "colab": {
          "base_uri": "https://localhost:8080/"
        },
        "outputId": "efd737c4-0fcf-48e9-e0eb-655e44706b0d"
      },
      "execution_count": 13,
      "outputs": [
        {
          "output_type": "stream",
          "name": "stdout",
          "text": [
            "1.0\n"
          ]
        }
      ]
    },
    {
      "cell_type": "code",
      "source": [
        "# Random Forest Classifier\n",
        "rf_classifier = RandomForestClassifier()\n",
        "rf_classifier.fit(X_train, y_train)\n",
        "rf_pred = rf_classifier.predict(X_test)\n",
        "rf_accuracy = accuracy_score(y_test, rf_pred)\n",
        "print(rf_accuracy)"
      ],
      "metadata": {
        "id": "owKxUgPxDhx-",
        "colab": {
          "base_uri": "https://localhost:8080/"
        },
        "outputId": "0ad713ca-9718-4520-9901-7f5dcc876e54"
      },
      "execution_count": 14,
      "outputs": [
        {
          "output_type": "stream",
          "name": "stdout",
          "text": [
            "1.0\n"
          ]
        }
      ]
    },
    {
      "cell_type": "code",
      "source": [
        "# K-Nearest Neighbors Classifier\n",
        "knn_classifier = KNeighborsClassifier()\n",
        "knn_classifier.fit(X_train, y_train)\n",
        "knn_pred = knn_classifier.predict(X_test)\n",
        "knn_accuracy = accuracy_score(y_test, knn_pred)\n",
        "print(knn_accuracy)"
      ],
      "metadata": {
        "id": "A41i5qMHDkjh",
        "colab": {
          "base_uri": "https://localhost:8080/"
        },
        "outputId": "d89102cc-4bdc-4ee9-c2f2-69be2fe39a2f"
      },
      "execution_count": 15,
      "outputs": [
        {
          "output_type": "stream",
          "name": "stdout",
          "text": [
            "1.0\n"
          ]
        }
      ]
    },
    {
      "cell_type": "code",
      "source": [
        "# ARIMA Model\n",
        "# Assuming you have time series data for ARIMA\n",
        "# Splitting data for ARIMA\n",
        "train_data = data[:int(0.8*(len(data)))]\n",
        "test_data = data[int(0.8*(len(data))):]"
      ],
      "metadata": {
        "id": "MF0f4xzfDoFQ"
      },
      "execution_count": 16,
      "outputs": []
    },
    {
      "cell_type": "code",
      "source": [
        "# LSTM Model\n",
        "# Assuming you have sequential data for LSTM\n",
        "# Reshape the data\n",
        "X_train_lstm = np.reshape(X_train, (X_train.shape[0], X_train.shape[1], 1))\n",
        "X_test_lstm = np.reshape(X_test, (X_test.shape[0], X_test.shape[1], 1))"
      ],
      "metadata": {
        "id": "QJqyU3s6D9Wd"
      },
      "execution_count": 17,
      "outputs": []
    },
    {
      "cell_type": "code",
      "source": [
        "# Build LSTM model\n",
        "lstm_model = Sequential()\n",
        "lstm_model.add(LSTM(units=50, return_sequences=True, input_shape=(X_train_lstm.shape[1], 1)))\n",
        "lstm_model.add(LSTM(units=50, return_sequences=False))\n",
        "lstm_model.add(Dense(units=1))"
      ],
      "metadata": {
        "id": "qoWZhNwpEARt"
      },
      "execution_count": 18,
      "outputs": []
    },
    {
      "cell_type": "code",
      "source": [
        "# Compile the model\n",
        "lstm_model.compile(optimizer='adam', loss='mean_squared_error')"
      ],
      "metadata": {
        "id": "BKTJO094EE22"
      },
      "execution_count": 19,
      "outputs": []
    },
    {
      "cell_type": "code",
      "source": [
        "# Train the model\n",
        "lstm_model.fit(X_train_lstm, y_train, epochs=100, batch_size=32)"
      ],
      "metadata": {
        "id": "Gvx7fx1sEHov",
        "colab": {
          "base_uri": "https://localhost:8080/"
        },
        "outputId": "51155b6c-e238-4685-db1f-ff204eb42725"
      },
      "execution_count": 20,
      "outputs": [
        {
          "output_type": "stream",
          "name": "stdout",
          "text": [
            "Epoch 1/100\n",
            "82/82 [==============================] - 8s 6ms/step - loss: 0.2682\n",
            "Epoch 2/100\n",
            "82/82 [==============================] - 0s 6ms/step - loss: 0.0013\n",
            "Epoch 3/100\n",
            "82/82 [==============================] - 0s 6ms/step - loss: 6.4846e-04\n",
            "Epoch 4/100\n",
            "82/82 [==============================] - 0s 6ms/step - loss: 4.7505e-04\n",
            "Epoch 5/100\n",
            "82/82 [==============================] - 0s 6ms/step - loss: 4.2506e-04\n",
            "Epoch 6/100\n",
            "82/82 [==============================] - 1s 6ms/step - loss: 4.2607e-04\n",
            "Epoch 7/100\n",
            "82/82 [==============================] - 0s 6ms/step - loss: 3.8588e-04\n",
            "Epoch 8/100\n",
            "82/82 [==============================] - 1s 6ms/step - loss: 4.4984e-04\n",
            "Epoch 9/100\n",
            "82/82 [==============================] - 0s 6ms/step - loss: 4.2727e-04\n",
            "Epoch 10/100\n",
            "82/82 [==============================] - 0s 6ms/step - loss: 4.2713e-04\n",
            "Epoch 11/100\n",
            "82/82 [==============================] - 1s 6ms/step - loss: 4.3358e-04\n",
            "Epoch 12/100\n",
            "82/82 [==============================] - 0s 6ms/step - loss: 4.4189e-04\n",
            "Epoch 13/100\n",
            "82/82 [==============================] - 0s 6ms/step - loss: 4.3046e-04\n",
            "Epoch 14/100\n",
            "82/82 [==============================] - 1s 7ms/step - loss: 4.5229e-04\n",
            "Epoch 15/100\n",
            "82/82 [==============================] - 1s 8ms/step - loss: 4.2052e-04\n",
            "Epoch 16/100\n",
            "82/82 [==============================] - 1s 8ms/step - loss: 4.3818e-04\n",
            "Epoch 17/100\n",
            "82/82 [==============================] - 1s 9ms/step - loss: 4.3703e-04\n",
            "Epoch 18/100\n",
            "82/82 [==============================] - 1s 9ms/step - loss: 4.3642e-04\n",
            "Epoch 19/100\n",
            "82/82 [==============================] - 1s 6ms/step - loss: 4.4415e-04\n",
            "Epoch 20/100\n",
            "82/82 [==============================] - 1s 6ms/step - loss: 4.5262e-04\n",
            "Epoch 21/100\n",
            "82/82 [==============================] - 1s 6ms/step - loss: 4.0548e-04\n",
            "Epoch 22/100\n",
            "82/82 [==============================] - 0s 6ms/step - loss: 4.7232e-04\n",
            "Epoch 23/100\n",
            "82/82 [==============================] - 1s 6ms/step - loss: 4.4961e-04\n",
            "Epoch 24/100\n",
            "82/82 [==============================] - 0s 6ms/step - loss: 4.4453e-04\n",
            "Epoch 25/100\n",
            "82/82 [==============================] - 1s 6ms/step - loss: 4.2772e-04\n",
            "Epoch 26/100\n",
            "82/82 [==============================] - 1s 6ms/step - loss: 4.9641e-04\n",
            "Epoch 27/100\n",
            "82/82 [==============================] - 1s 7ms/step - loss: 4.3468e-04\n",
            "Epoch 28/100\n",
            "82/82 [==============================] - 0s 6ms/step - loss: 3.9068e-04\n",
            "Epoch 29/100\n",
            "82/82 [==============================] - 1s 6ms/step - loss: 4.7661e-04\n",
            "Epoch 30/100\n",
            "82/82 [==============================] - 0s 6ms/step - loss: 4.6309e-04\n",
            "Epoch 31/100\n",
            "82/82 [==============================] - 1s 6ms/step - loss: 4.7416e-04\n",
            "Epoch 32/100\n",
            "82/82 [==============================] - 0s 6ms/step - loss: 4.3685e-04\n",
            "Epoch 33/100\n",
            "82/82 [==============================] - 1s 6ms/step - loss: 4.5531e-04\n",
            "Epoch 34/100\n",
            "82/82 [==============================] - 0s 6ms/step - loss: 4.2753e-04\n",
            "Epoch 35/100\n",
            "82/82 [==============================] - 1s 6ms/step - loss: 4.2717e-04\n",
            "Epoch 36/100\n",
            "82/82 [==============================] - 0s 6ms/step - loss: 4.5196e-04\n",
            "Epoch 37/100\n",
            "82/82 [==============================] - 0s 6ms/step - loss: 4.9557e-04\n",
            "Epoch 38/100\n",
            "82/82 [==============================] - 1s 7ms/step - loss: 4.6749e-04\n",
            "Epoch 39/100\n",
            "82/82 [==============================] - 1s 8ms/step - loss: 4.5135e-04\n",
            "Epoch 40/100\n",
            "82/82 [==============================] - 1s 8ms/step - loss: 4.5434e-04\n",
            "Epoch 41/100\n",
            "82/82 [==============================] - 1s 9ms/step - loss: 4.3208e-04\n",
            "Epoch 42/100\n",
            "82/82 [==============================] - 1s 9ms/step - loss: 4.7682e-04\n",
            "Epoch 43/100\n",
            "82/82 [==============================] - 1s 6ms/step - loss: 4.3969e-04\n",
            "Epoch 44/100\n",
            "82/82 [==============================] - 1s 6ms/step - loss: 4.4161e-04\n",
            "Epoch 45/100\n",
            "82/82 [==============================] - 1s 6ms/step - loss: 4.3107e-04\n",
            "Epoch 46/100\n",
            "82/82 [==============================] - 1s 6ms/step - loss: 4.1123e-04\n",
            "Epoch 47/100\n",
            "82/82 [==============================] - 1s 6ms/step - loss: 4.3102e-04\n",
            "Epoch 48/100\n",
            "82/82 [==============================] - 0s 6ms/step - loss: 4.3046e-04\n",
            "Epoch 49/100\n",
            "82/82 [==============================] - 0s 6ms/step - loss: 4.5749e-04\n",
            "Epoch 50/100\n",
            "82/82 [==============================] - 0s 6ms/step - loss: 4.6991e-04\n",
            "Epoch 51/100\n",
            "82/82 [==============================] - 0s 6ms/step - loss: 4.5229e-04\n",
            "Epoch 52/100\n",
            "82/82 [==============================] - 0s 6ms/step - loss: 4.0171e-04\n",
            "Epoch 53/100\n",
            "82/82 [==============================] - 1s 6ms/step - loss: 4.8909e-04\n",
            "Epoch 54/100\n",
            "82/82 [==============================] - 1s 6ms/step - loss: 4.2759e-04\n",
            "Epoch 55/100\n",
            "82/82 [==============================] - 0s 6ms/step - loss: 4.8466e-04\n",
            "Epoch 56/100\n",
            "82/82 [==============================] - 0s 5ms/step - loss: 4.2107e-04\n",
            "Epoch 57/100\n",
            "82/82 [==============================] - 0s 6ms/step - loss: 4.4378e-04\n",
            "Epoch 58/100\n",
            "82/82 [==============================] - 0s 6ms/step - loss: 4.5661e-04\n",
            "Epoch 59/100\n",
            "82/82 [==============================] - 1s 6ms/step - loss: 4.5070e-04\n",
            "Epoch 60/100\n",
            "82/82 [==============================] - 0s 6ms/step - loss: 4.3945e-04\n",
            "Epoch 61/100\n",
            "82/82 [==============================] - 0s 6ms/step - loss: 4.4055e-04\n",
            "Epoch 62/100\n",
            "82/82 [==============================] - 0s 5ms/step - loss: 4.2532e-04\n",
            "Epoch 63/100\n",
            "82/82 [==============================] - 1s 8ms/step - loss: 5.0771e-04\n",
            "Epoch 64/100\n",
            "82/82 [==============================] - 1s 8ms/step - loss: 4.4426e-04\n",
            "Epoch 65/100\n",
            "82/82 [==============================] - 1s 8ms/step - loss: 4.2208e-04\n",
            "Epoch 66/100\n",
            "82/82 [==============================] - 1s 9ms/step - loss: 4.5657e-04\n",
            "Epoch 67/100\n",
            "82/82 [==============================] - 1s 9ms/step - loss: 4.3137e-04\n",
            "Epoch 68/100\n",
            "82/82 [==============================] - 0s 6ms/step - loss: 4.4308e-04\n",
            "Epoch 69/100\n",
            "82/82 [==============================] - 0s 6ms/step - loss: 4.3254e-04\n",
            "Epoch 70/100\n",
            "82/82 [==============================] - 0s 6ms/step - loss: 4.1904e-04\n",
            "Epoch 71/100\n",
            "82/82 [==============================] - 0s 6ms/step - loss: 4.3435e-04\n",
            "Epoch 72/100\n",
            "82/82 [==============================] - 0s 6ms/step - loss: 4.3500e-04\n",
            "Epoch 73/100\n",
            "82/82 [==============================] - 0s 6ms/step - loss: 4.6056e-04\n",
            "Epoch 74/100\n",
            "82/82 [==============================] - 0s 6ms/step - loss: 4.3136e-04\n",
            "Epoch 75/100\n",
            "82/82 [==============================] - 0s 6ms/step - loss: 4.4836e-04\n",
            "Epoch 76/100\n",
            "82/82 [==============================] - 1s 6ms/step - loss: 4.3695e-04\n",
            "Epoch 77/100\n",
            "82/82 [==============================] - 1s 6ms/step - loss: 4.2367e-04\n",
            "Epoch 78/100\n",
            "82/82 [==============================] - 1s 6ms/step - loss: 4.5343e-04\n",
            "Epoch 79/100\n",
            "82/82 [==============================] - 0s 6ms/step - loss: 3.8082e-04\n",
            "Epoch 80/100\n",
            "82/82 [==============================] - 1s 6ms/step - loss: 4.6528e-04\n",
            "Epoch 81/100\n",
            "82/82 [==============================] - 1s 6ms/step - loss: 4.4021e-04\n",
            "Epoch 82/100\n",
            "82/82 [==============================] - 1s 7ms/step - loss: 3.9103e-04\n",
            "Epoch 83/100\n",
            "82/82 [==============================] - 0s 6ms/step - loss: 4.6694e-04\n",
            "Epoch 84/100\n",
            "82/82 [==============================] - 1s 6ms/step - loss: 4.6423e-04\n",
            "Epoch 85/100\n",
            "82/82 [==============================] - 0s 6ms/step - loss: 4.2792e-04\n",
            "Epoch 86/100\n",
            "82/82 [==============================] - 1s 6ms/step - loss: 4.3033e-04\n",
            "Epoch 87/100\n",
            "82/82 [==============================] - 1s 7ms/step - loss: 4.1819e-04\n",
            "Epoch 88/100\n",
            "82/82 [==============================] - 1s 9ms/step - loss: 4.3012e-04\n",
            "Epoch 89/100\n",
            "82/82 [==============================] - 1s 8ms/step - loss: 4.5767e-04\n",
            "Epoch 90/100\n",
            "82/82 [==============================] - 1s 8ms/step - loss: 4.3805e-04\n",
            "Epoch 91/100\n",
            "82/82 [==============================] - 1s 9ms/step - loss: 4.2727e-04\n",
            "Epoch 92/100\n",
            "82/82 [==============================] - 1s 7ms/step - loss: 4.3288e-04\n",
            "Epoch 93/100\n",
            "82/82 [==============================] - 0s 6ms/step - loss: 3.9389e-04\n",
            "Epoch 94/100\n",
            "82/82 [==============================] - 0s 6ms/step - loss: 4.6221e-04\n",
            "Epoch 95/100\n",
            "82/82 [==============================] - 0s 6ms/step - loss: 4.2597e-04\n",
            "Epoch 96/100\n",
            "82/82 [==============================] - 0s 6ms/step - loss: 4.1389e-04\n",
            "Epoch 97/100\n",
            "82/82 [==============================] - 0s 6ms/step - loss: 3.8827e-04\n",
            "Epoch 98/100\n",
            "82/82 [==============================] - 0s 6ms/step - loss: 4.2690e-04\n",
            "Epoch 99/100\n",
            "82/82 [==============================] - 0s 6ms/step - loss: 4.2691e-04\n",
            "Epoch 100/100\n",
            "82/82 [==============================] - 0s 6ms/step - loss: 4.1573e-04\n"
          ]
        },
        {
          "output_type": "execute_result",
          "data": {
            "text/plain": [
              "<keras.src.callbacks.History at 0x7befd445fa30>"
            ]
          },
          "metadata": {},
          "execution_count": 20
        }
      ]
    },
    {
      "cell_type": "code",
      "source": [
        "# Predictions\n",
        "lstm_predictions = lstm_model.predict(X_test_lstm)"
      ],
      "metadata": {
        "id": "zUn4HkBwEKf7",
        "colab": {
          "base_uri": "https://localhost:8080/"
        },
        "outputId": "b6d1341d-c2ef-48d7-e080-ae96dd079682"
      },
      "execution_count": 21,
      "outputs": [
        {
          "output_type": "stream",
          "name": "stdout",
          "text": [
            "21/21 [==============================] - 1s 5ms/step\n"
          ]
        }
      ]
    },
    {
      "cell_type": "code",
      "source": [
        "# Visualization (assuming you want to visualize predictions)\n",
        "plt.plot(test_data.index, test_data['Ship_class'], label='Actual')\n",
        "plt.plot(test_data.index, lstm_predictions, label='LSTM')\n",
        "plt.legend()\n",
        "plt.show()"
      ],
      "metadata": {
        "id": "3dhVknW8ERKk",
        "colab": {
          "base_uri": "https://localhost:8080/",
          "height": 430
        },
        "outputId": "f69b4dc6-7fb9-4567-9d1c-44c70b52d450"
      },
      "execution_count": 22,
      "outputs": [
        {
          "output_type": "display_data",
          "data": {
            "text/plain": [
              "<Figure size 640x480 with 1 Axes>"
            ],
            "image/png": "[encoded data removed]"
          },
          "metadata": {}
        }
      ]
    },
    {
      "cell_type": "code",
      "source": [
        "# Visualization (assuming you want to visualize predictions)\n",
        "plt.plot(test_data.index, test_data['Ship_Speed'], label='Actual')\n",
        "plt.plot(test_data.index, lstm_predictions, label='LSTM')\n",
        "plt.legend()\n",
        "plt.show()"
      ],
      "metadata": {
        "colab": {
          "base_uri": "https://localhost:8080/",
          "height": 430
        },
        "id": "WRvsf8rwPhzg",
        "outputId": "8f3527b7-0476-4b06-d0eb-73fa1abdc8fb"
      },
      "execution_count": 23,
      "outputs": [
        {
          "output_type": "display_data",
          "data": {
            "text/plain": [
              "<Figure size 640x480 with 1 Axes>"
            ],
            "image/png": "[encoded data removed]"
          },
          "metadata": {}
        }
      ]
    },
    {
      "cell_type": "code",
      "source": [
        "# Visualization (assuming you want to visualize predictions)\n",
        "plt.plot(test_data.index, test_data['Ship_Fuel_Level'], label='Actual')\n",
        "plt.plot(test_data.index, lstm_predictions, label='LSTM')\n",
        "plt.legend()\n",
        "plt.show()"
      ],
      "metadata": {
        "colab": {
          "base_uri": "https://localhost:8080/",
          "height": 430
        },
        "id": "DzgPSE1NPq6T",
        "outputId": "d5f16f1c-7441-4192-b50a-03cc60b02b53"
      },
      "execution_count": 24,
      "outputs": [
        {
          "output_type": "display_data",
          "data": {
            "text/plain": [
              "<Figure size 640x480 with 1 Axes>"
            ],
            "image/png": "[encoded data removed]"
          },
          "metadata": {}
        }
      ]
    }
  ]
}